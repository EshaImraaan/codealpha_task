{
  "nbformat": 4,
  "nbformat_minor": 0,
  "metadata": {
    "colab": {
      "provenance": []
    },
    "kernelspec": {
      "name": "python3",
      "display_name": "Python 3"
    },
    "language_info": {
      "name": "python"
    }
  },
  "cells": [
    {
      "cell_type": "code",
      "execution_count": 1,
      "metadata": {
        "colab": {
          "base_uri": "https://localhost:8080/"
        },
        "id": "zrn7wDJ2DkZJ",
        "outputId": "75558b17-16d7-4f14-912f-60be181b28d5"
      },
      "outputs": [
        {
          "output_type": "stream",
          "name": "stdout",
          "text": [
            "Enter how many Fibonacci numbers you want: 7\n",
            "Fibonacci sequence:\n",
            "0 1 1 2 3 5 8 "
          ]
        }
      ],
      "source": [
        "def fibonacci_generator(n):\n",
        "    a, b = 0, 1\n",
        "    for _ in range(n):\n",
        "        yield a\n",
        "        a, b = b, a + b\n",
        "\n",
        "# Example usage:\n",
        "n_terms = int(input(\"Enter how many Fibonacci numbers you want: \"))\n",
        "print(\"Fibonacci sequence:\")\n",
        "for num in fibonacci_generator(n_terms):\n",
        "    print(num, end=\" \")\n"
      ]
    }
  ]
}